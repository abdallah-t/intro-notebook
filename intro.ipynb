{
 "cells": [
  {
   "cell_type": "markdown",
   "metadata": {},
   "source": [
    "# Peerlearning intro maker\n",
    "\n",
    "## instructions\n",
    "\n",
    "1. Change the variables below `COURSE_CODE_TEXT`, `LESSON_NUMBER_TEXT`, `LESSON_NAME_TEXT` and `TUTOR_NAME_TEXT` to the appropriate values.\n",
    "2. click on `Run` -> `Run All Cells`\n",
    "3. wait for the notebook to finish running\n",
    "4. download the resulting video\n"
   ]
  },
  {
   "cell_type": "code",
   "execution_count": 23,
   "metadata": {},
   "outputs": [],
   "source": [
    "COURSE_CODE_TEXT = \"ريض151 - رياضيات 1\"\n",
    "LESSON_NUMBER_TEXT = \"1 - 1\"\n",
    "LESSON_TITLE_TEXT = \"المجموعات والفترات\"\n",
    "TUTOR_NAME_TEXT = \"محمد علي بطال\""
   ]
  },
  {
   "cell_type": "code",
   "execution_count": 24,
   "metadata": {},
   "outputs": [],
   "source": [
    "from manim import *\n",
    "\n",
    "LOGO_YELLOW = \"#ffd966\"\n",
    "LOGO_GREEN = \"#a9d18e\"\n",
    "LOGO_RED = \"#f08462\"\n",
    "LOGO_PURPLE = \"#002060\"\n",
    "NORMAL_FONT_PATH = \"./assets/fonts/Vazirmatn-Regular.ttf\"\n",
    "NORMAL_FONT = \"Vazirmatn\"\n",
    "NORMAL_FONT_SIZE = 30\n",
    "LOGO_FONT_PATH = \"./assets/fonts/Vazirmatn-Black.ttf\"\n",
    "LOGO_FONT = \"Vazirmatn Black\"\n",
    "SOCIAL_MEDIA_FONT_PATH = \"./assets/fonts/SpaceMono-Regular.ttf\"\n",
    "SOCIAL_MEDIA_FONT = \"Space Mono\"\n",
    "SOCIAL_MEDIA_LOGO_HEIGHT = 0.4\n",
    "SOCIAL_MEDIA_LOGO_WIDTH = 0.4\n",
    "FONT_COLOR = BLACK\n"
   ]
  },
  {
   "cell_type": "code",
   "execution_count": 25,
   "metadata": {},
   "outputs": [
    {
     "name": "stderr",
     "output_type": "stream",
     "text": [
      "                                                                               \r"
     ]
    },
    {
     "data": {
      "text/html": [
       "<pre style=\"white-space:pre;overflow-x:auto;line-height:normal;font-family:Menlo,'DejaVu Sans Mono',consolas,'Courier New',monospace\"><span style=\"color: #7fbfbf; text-decoration-color: #7fbfbf\">[09/24/23 10:47:40] </span><span style=\"color: #008000; text-decoration-color: #008000\">INFO    </span> Animation <span style=\"color: #008000; text-decoration-color: #008000\">0</span> : Partial movie file written in                   <a href=\"file://C:\\tools\\Manim\\Lib\\site-packages\\manim\\scene\\scene_file_writer.py\" target=\"_blank\"><span style=\"color: #7f7f7f; text-decoration-color: #7f7f7f\">scene_file_writer.py</span></a><span style=\"color: #7f7f7f; text-decoration-color: #7f7f7f\">:</span><a href=\"file://C:\\tools\\Manim\\Lib\\site-packages\\manim\\scene\\scene_file_writer.py#527\" target=\"_blank\"><span style=\"color: #7f7f7f; text-decoration-color: #7f7f7f\">527</span></a>\n",
       "<span style=\"color: #7fbfbf; text-decoration-color: #7fbfbf\">                    </span>         <span style=\"color: #008000; text-decoration-color: #008000\">'C:\\Users\\Abdullah\\Documents\\MasterFolder\\Projects\\CodingProj</span> <span style=\"color: #7f7f7f; text-decoration-color: #7f7f7f\">                        </span>\n",
       "<span style=\"color: #7fbfbf; text-decoration-color: #7fbfbf\">                    </span>         <span style=\"color: #008000; text-decoration-color: #008000\">ects\\intro-notebook\\media\\videos\\intro-notebook\\480p15\\partia</span> <span style=\"color: #7f7f7f; text-decoration-color: #7f7f7f\">                        </span>\n",
       "<span style=\"color: #7fbfbf; text-decoration-color: #7fbfbf\">                    </span>         <span style=\"color: #008000; text-decoration-color: #008000\">l_movie_files\\IntroBright\\849281109_2495959530_223132457.mp4'</span> <span style=\"color: #7f7f7f; text-decoration-color: #7f7f7f\">                        </span>\n",
       "</pre>\n"
      ],
      "text/plain": [
       "\u001b[2;36m[09/24/23 10:47:40]\u001b[0m\u001b[2;36m \u001b[0m\u001b[32mINFO    \u001b[0m Animation \u001b[32m0\u001b[0m : Partial movie file written in                   \u001b]8;id=367452;file://C:\\tools\\Manim\\Lib\\site-packages\\manim\\scene\\scene_file_writer.py\u001b\\\u001b[2mscene_file_writer.py\u001b[0m\u001b]8;;\u001b\\\u001b[2m:\u001b[0m\u001b]8;id=251839;file://C:\\tools\\Manim\\Lib\\site-packages\\manim\\scene\\scene_file_writer.py#527\u001b\\\u001b[2m527\u001b[0m\u001b]8;;\u001b\\\n",
       "\u001b[2;36m                    \u001b[0m         \u001b[32m'C:\\Users\\Abdullah\\Documents\\MasterFolder\\Projects\\CodingProj\u001b[0m \u001b[2m                        \u001b[0m\n",
       "\u001b[2;36m                    \u001b[0m         \u001b[32mects\\intro-notebook\\media\\videos\\intro-notebook\\480p15\\partia\u001b[0m \u001b[2m                        \u001b[0m\n",
       "\u001b[2;36m                    \u001b[0m         \u001b[32ml_movie_files\\IntroBright\\849281109_2495959530_223132457.mp4'\u001b[0m \u001b[2m                        \u001b[0m\n"
      ]
     },
     "metadata": {},
     "output_type": "display_data"
    },
    {
     "name": "stderr",
     "output_type": "stream",
     "text": [
      "                                                                                          \r"
     ]
    },
    {
     "data": {
      "text/html": [
       "<pre style=\"white-space:pre;overflow-x:auto;line-height:normal;font-family:Menlo,'DejaVu Sans Mono',consolas,'Courier New',monospace\"><span style=\"color: #7fbfbf; text-decoration-color: #7fbfbf\">                    </span><span style=\"color: #008000; text-decoration-color: #008000\">INFO    </span> Animation <span style=\"color: #008000; text-decoration-color: #008000\">1</span> : Partial movie file written in                   <a href=\"file://C:\\tools\\Manim\\Lib\\site-packages\\manim\\scene\\scene_file_writer.py\" target=\"_blank\"><span style=\"color: #7f7f7f; text-decoration-color: #7f7f7f\">scene_file_writer.py</span></a><span style=\"color: #7f7f7f; text-decoration-color: #7f7f7f\">:</span><a href=\"file://C:\\tools\\Manim\\Lib\\site-packages\\manim\\scene\\scene_file_writer.py#527\" target=\"_blank\"><span style=\"color: #7f7f7f; text-decoration-color: #7f7f7f\">527</span></a>\n",
       "<span style=\"color: #7fbfbf; text-decoration-color: #7fbfbf\">                    </span>         <span style=\"color: #008000; text-decoration-color: #008000\">'C:\\Users\\Abdullah\\Documents\\MasterFolder\\Projects\\CodingProj</span> <span style=\"color: #7f7f7f; text-decoration-color: #7f7f7f\">                        </span>\n",
       "<span style=\"color: #7fbfbf; text-decoration-color: #7fbfbf\">                    </span>         <span style=\"color: #008000; text-decoration-color: #008000\">ects\\intro-notebook\\media\\videos\\intro-notebook\\480p15\\partia</span> <span style=\"color: #7f7f7f; text-decoration-color: #7f7f7f\">                        </span>\n",
       "<span style=\"color: #7fbfbf; text-decoration-color: #7fbfbf\">                    </span>         <span style=\"color: #008000; text-decoration-color: #008000\">l_movie_files\\IntroBright\\4007471538_3640980756_2526298377.mp</span> <span style=\"color: #7f7f7f; text-decoration-color: #7f7f7f\">                        </span>\n",
       "<span style=\"color: #7fbfbf; text-decoration-color: #7fbfbf\">                    </span>         <span style=\"color: #008000; text-decoration-color: #008000\">4'</span>                                                            <span style=\"color: #7f7f7f; text-decoration-color: #7f7f7f\">                        </span>\n",
       "</pre>\n"
      ],
      "text/plain": [
       "\u001b[2;36m                   \u001b[0m\u001b[2;36m \u001b[0m\u001b[32mINFO    \u001b[0m Animation \u001b[32m1\u001b[0m : Partial movie file written in                   \u001b]8;id=815597;file://C:\\tools\\Manim\\Lib\\site-packages\\manim\\scene\\scene_file_writer.py\u001b\\\u001b[2mscene_file_writer.py\u001b[0m\u001b]8;;\u001b\\\u001b[2m:\u001b[0m\u001b]8;id=474270;file://C:\\tools\\Manim\\Lib\\site-packages\\manim\\scene\\scene_file_writer.py#527\u001b\\\u001b[2m527\u001b[0m\u001b]8;;\u001b\\\n",
       "\u001b[2;36m                    \u001b[0m         \u001b[32m'C:\\Users\\Abdullah\\Documents\\MasterFolder\\Projects\\CodingProj\u001b[0m \u001b[2m                        \u001b[0m\n",
       "\u001b[2;36m                    \u001b[0m         \u001b[32mects\\intro-notebook\\media\\videos\\intro-notebook\\480p15\\partia\u001b[0m \u001b[2m                        \u001b[0m\n",
       "\u001b[2;36m                    \u001b[0m         \u001b[32ml_movie_files\\IntroBright\\4007471538_3640980756_2526298377.mp\u001b[0m \u001b[2m                        \u001b[0m\n",
       "\u001b[2;36m                    \u001b[0m         \u001b[32m4'\u001b[0m                                                            \u001b[2m                        \u001b[0m\n"
      ]
     },
     "metadata": {},
     "output_type": "display_data"
    },
    {
     "name": "stderr",
     "output_type": "stream",
     "text": [
      "                                                                                                                                                                                                                                                                                                     \r"
     ]
    },
    {
     "data": {
      "text/html": [
       "<pre style=\"white-space:pre;overflow-x:auto;line-height:normal;font-family:Menlo,'DejaVu Sans Mono',consolas,'Courier New',monospace\"><span style=\"color: #7fbfbf; text-decoration-color: #7fbfbf\">[09/24/23 10:47:43] </span><span style=\"color: #008000; text-decoration-color: #008000\">INFO    </span> Animation <span style=\"color: #008000; text-decoration-color: #008000\">2</span> : Partial movie file written in                   <a href=\"file://C:\\tools\\Manim\\Lib\\site-packages\\manim\\scene\\scene_file_writer.py\" target=\"_blank\"><span style=\"color: #7f7f7f; text-decoration-color: #7f7f7f\">scene_file_writer.py</span></a><span style=\"color: #7f7f7f; text-decoration-color: #7f7f7f\">:</span><a href=\"file://C:\\tools\\Manim\\Lib\\site-packages\\manim\\scene\\scene_file_writer.py#527\" target=\"_blank\"><span style=\"color: #7f7f7f; text-decoration-color: #7f7f7f\">527</span></a>\n",
       "<span style=\"color: #7fbfbf; text-decoration-color: #7fbfbf\">                    </span>         <span style=\"color: #008000; text-decoration-color: #008000\">'C:\\Users\\Abdullah\\Documents\\MasterFolder\\Projects\\CodingProj</span> <span style=\"color: #7f7f7f; text-decoration-color: #7f7f7f\">                        </span>\n",
       "<span style=\"color: #7fbfbf; text-decoration-color: #7fbfbf\">                    </span>         <span style=\"color: #008000; text-decoration-color: #008000\">ects\\intro-notebook\\media\\videos\\intro-notebook\\480p15\\partia</span> <span style=\"color: #7f7f7f; text-decoration-color: #7f7f7f\">                        </span>\n",
       "<span style=\"color: #7fbfbf; text-decoration-color: #7fbfbf\">                    </span>         <span style=\"color: #008000; text-decoration-color: #008000\">l_movie_files\\IntroBright\\4007471538_1403399488_3456367447.mp</span> <span style=\"color: #7f7f7f; text-decoration-color: #7f7f7f\">                        </span>\n",
       "<span style=\"color: #7fbfbf; text-decoration-color: #7fbfbf\">                    </span>         <span style=\"color: #008000; text-decoration-color: #008000\">4'</span>                                                            <span style=\"color: #7f7f7f; text-decoration-color: #7f7f7f\">                        </span>\n",
       "</pre>\n"
      ],
      "text/plain": [
       "\u001b[2;36m[09/24/23 10:47:43]\u001b[0m\u001b[2;36m \u001b[0m\u001b[32mINFO    \u001b[0m Animation \u001b[32m2\u001b[0m : Partial movie file written in                   \u001b]8;id=528315;file://C:\\tools\\Manim\\Lib\\site-packages\\manim\\scene\\scene_file_writer.py\u001b\\\u001b[2mscene_file_writer.py\u001b[0m\u001b]8;;\u001b\\\u001b[2m:\u001b[0m\u001b]8;id=362263;file://C:\\tools\\Manim\\Lib\\site-packages\\manim\\scene\\scene_file_writer.py#527\u001b\\\u001b[2m527\u001b[0m\u001b]8;;\u001b\\\n",
       "\u001b[2;36m                    \u001b[0m         \u001b[32m'C:\\Users\\Abdullah\\Documents\\MasterFolder\\Projects\\CodingProj\u001b[0m \u001b[2m                        \u001b[0m\n",
       "\u001b[2;36m                    \u001b[0m         \u001b[32mects\\intro-notebook\\media\\videos\\intro-notebook\\480p15\\partia\u001b[0m \u001b[2m                        \u001b[0m\n",
       "\u001b[2;36m                    \u001b[0m         \u001b[32ml_movie_files\\IntroBright\\4007471538_1403399488_3456367447.mp\u001b[0m \u001b[2m                        \u001b[0m\n",
       "\u001b[2;36m                    \u001b[0m         \u001b[32m4'\u001b[0m                                                            \u001b[2m                        \u001b[0m\n"
      ]
     },
     "metadata": {},
     "output_type": "display_data"
    },
    {
     "name": "stderr",
     "output_type": "stream",
     "text": [
      "                                                                                                       \r"
     ]
    },
    {
     "data": {
      "text/html": [
       "<pre style=\"white-space:pre;overflow-x:auto;line-height:normal;font-family:Menlo,'DejaVu Sans Mono',consolas,'Courier New',monospace\"><span style=\"color: #7fbfbf; text-decoration-color: #7fbfbf\">[09/24/23 10:47:44] </span><span style=\"color: #008000; text-decoration-color: #008000\">INFO    </span> Animation <span style=\"color: #008000; text-decoration-color: #008000\">3</span> : Partial movie file written in                   <a href=\"file://C:\\tools\\Manim\\Lib\\site-packages\\manim\\scene\\scene_file_writer.py\" target=\"_blank\"><span style=\"color: #7f7f7f; text-decoration-color: #7f7f7f\">scene_file_writer.py</span></a><span style=\"color: #7f7f7f; text-decoration-color: #7f7f7f\">:</span><a href=\"file://C:\\tools\\Manim\\Lib\\site-packages\\manim\\scene\\scene_file_writer.py#527\" target=\"_blank\"><span style=\"color: #7f7f7f; text-decoration-color: #7f7f7f\">527</span></a>\n",
       "<span style=\"color: #7fbfbf; text-decoration-color: #7fbfbf\">                    </span>         <span style=\"color: #008000; text-decoration-color: #008000\">'C:\\Users\\Abdullah\\Documents\\MasterFolder\\Projects\\CodingProj</span> <span style=\"color: #7f7f7f; text-decoration-color: #7f7f7f\">                        </span>\n",
       "<span style=\"color: #7fbfbf; text-decoration-color: #7fbfbf\">                    </span>         <span style=\"color: #008000; text-decoration-color: #008000\">ects\\intro-notebook\\media\\videos\\intro-notebook\\480p15\\partia</span> <span style=\"color: #7f7f7f; text-decoration-color: #7f7f7f\">                        </span>\n",
       "<span style=\"color: #7fbfbf; text-decoration-color: #7fbfbf\">                    </span>         <span style=\"color: #008000; text-decoration-color: #008000\">l_movie_files\\IntroBright\\4007471538_871170920_359913990.mp4'</span> <span style=\"color: #7f7f7f; text-decoration-color: #7f7f7f\">                        </span>\n",
       "</pre>\n"
      ],
      "text/plain": [
       "\u001b[2;36m[09/24/23 10:47:44]\u001b[0m\u001b[2;36m \u001b[0m\u001b[32mINFO    \u001b[0m Animation \u001b[32m3\u001b[0m : Partial movie file written in                   \u001b]8;id=547949;file://C:\\tools\\Manim\\Lib\\site-packages\\manim\\scene\\scene_file_writer.py\u001b\\\u001b[2mscene_file_writer.py\u001b[0m\u001b]8;;\u001b\\\u001b[2m:\u001b[0m\u001b]8;id=404577;file://C:\\tools\\Manim\\Lib\\site-packages\\manim\\scene\\scene_file_writer.py#527\u001b\\\u001b[2m527\u001b[0m\u001b]8;;\u001b\\\n",
       "\u001b[2;36m                    \u001b[0m         \u001b[32m'C:\\Users\\Abdullah\\Documents\\MasterFolder\\Projects\\CodingProj\u001b[0m \u001b[2m                        \u001b[0m\n",
       "\u001b[2;36m                    \u001b[0m         \u001b[32mects\\intro-notebook\\media\\videos\\intro-notebook\\480p15\\partia\u001b[0m \u001b[2m                        \u001b[0m\n",
       "\u001b[2;36m                    \u001b[0m         \u001b[32ml_movie_files\\IntroBright\\4007471538_871170920_359913990.mp4'\u001b[0m \u001b[2m                        \u001b[0m\n"
      ]
     },
     "metadata": {},
     "output_type": "display_data"
    },
    {
     "name": "stderr",
     "output_type": "stream",
     "text": [
      "                                                                                   \r"
     ]
    },
    {
     "data": {
      "text/html": [
       "<pre style=\"white-space:pre;overflow-x:auto;line-height:normal;font-family:Menlo,'DejaVu Sans Mono',consolas,'Courier New',monospace\"><span style=\"color: #7fbfbf; text-decoration-color: #7fbfbf\">[09/24/23 10:47:49] </span><span style=\"color: #008000; text-decoration-color: #008000\">INFO    </span> Animation <span style=\"color: #008000; text-decoration-color: #008000\">4</span> : Partial movie file written in                   <a href=\"file://C:\\tools\\Manim\\Lib\\site-packages\\manim\\scene\\scene_file_writer.py\" target=\"_blank\"><span style=\"color: #7f7f7f; text-decoration-color: #7f7f7f\">scene_file_writer.py</span></a><span style=\"color: #7f7f7f; text-decoration-color: #7f7f7f\">:</span><a href=\"file://C:\\tools\\Manim\\Lib\\site-packages\\manim\\scene\\scene_file_writer.py#527\" target=\"_blank\"><span style=\"color: #7f7f7f; text-decoration-color: #7f7f7f\">527</span></a>\n",
       "<span style=\"color: #7fbfbf; text-decoration-color: #7fbfbf\">                    </span>         <span style=\"color: #008000; text-decoration-color: #008000\">'C:\\Users\\Abdullah\\Documents\\MasterFolder\\Projects\\CodingProj</span> <span style=\"color: #7f7f7f; text-decoration-color: #7f7f7f\">                        </span>\n",
       "<span style=\"color: #7fbfbf; text-decoration-color: #7fbfbf\">                    </span>         <span style=\"color: #008000; text-decoration-color: #008000\">ects\\intro-notebook\\media\\videos\\intro-notebook\\480p15\\partia</span> <span style=\"color: #7f7f7f; text-decoration-color: #7f7f7f\">                        </span>\n",
       "<span style=\"color: #7fbfbf; text-decoration-color: #7fbfbf\">                    </span>         <span style=\"color: #008000; text-decoration-color: #008000\">l_movie_files\\IntroBright\\4007471538_3020525966_3159929989.mp</span> <span style=\"color: #7f7f7f; text-decoration-color: #7f7f7f\">                        </span>\n",
       "<span style=\"color: #7fbfbf; text-decoration-color: #7fbfbf\">                    </span>         <span style=\"color: #008000; text-decoration-color: #008000\">4'</span>                                                            <span style=\"color: #7f7f7f; text-decoration-color: #7f7f7f\">                        </span>\n",
       "</pre>\n"
      ],
      "text/plain": [
       "\u001b[2;36m[09/24/23 10:47:49]\u001b[0m\u001b[2;36m \u001b[0m\u001b[32mINFO    \u001b[0m Animation \u001b[32m4\u001b[0m : Partial movie file written in                   \u001b]8;id=50565;file://C:\\tools\\Manim\\Lib\\site-packages\\manim\\scene\\scene_file_writer.py\u001b\\\u001b[2mscene_file_writer.py\u001b[0m\u001b]8;;\u001b\\\u001b[2m:\u001b[0m\u001b]8;id=205673;file://C:\\tools\\Manim\\Lib\\site-packages\\manim\\scene\\scene_file_writer.py#527\u001b\\\u001b[2m527\u001b[0m\u001b]8;;\u001b\\\n",
       "\u001b[2;36m                    \u001b[0m         \u001b[32m'C:\\Users\\Abdullah\\Documents\\MasterFolder\\Projects\\CodingProj\u001b[0m \u001b[2m                        \u001b[0m\n",
       "\u001b[2;36m                    \u001b[0m         \u001b[32mects\\intro-notebook\\media\\videos\\intro-notebook\\480p15\\partia\u001b[0m \u001b[2m                        \u001b[0m\n",
       "\u001b[2;36m                    \u001b[0m         \u001b[32ml_movie_files\\IntroBright\\4007471538_3020525966_3159929989.mp\u001b[0m \u001b[2m                        \u001b[0m\n",
       "\u001b[2;36m                    \u001b[0m         \u001b[32m4'\u001b[0m                                                            \u001b[2m                        \u001b[0m\n"
      ]
     },
     "metadata": {},
     "output_type": "display_data"
    },
    {
     "name": "stderr",
     "output_type": "stream",
     "text": [
      "                                                                                            \r"
     ]
    },
    {
     "data": {
      "text/html": [
       "<pre style=\"white-space:pre;overflow-x:auto;line-height:normal;font-family:Menlo,'DejaVu Sans Mono',consolas,'Courier New',monospace\"><span style=\"color: #7fbfbf; text-decoration-color: #7fbfbf\">[09/24/23 10:47:51] </span><span style=\"color: #008000; text-decoration-color: #008000\">INFO    </span> Animation <span style=\"color: #008000; text-decoration-color: #008000\">5</span> : Partial movie file written in                   <a href=\"file://C:\\tools\\Manim\\Lib\\site-packages\\manim\\scene\\scene_file_writer.py\" target=\"_blank\"><span style=\"color: #7f7f7f; text-decoration-color: #7f7f7f\">scene_file_writer.py</span></a><span style=\"color: #7f7f7f; text-decoration-color: #7f7f7f\">:</span><a href=\"file://C:\\tools\\Manim\\Lib\\site-packages\\manim\\scene\\scene_file_writer.py#527\" target=\"_blank\"><span style=\"color: #7f7f7f; text-decoration-color: #7f7f7f\">527</span></a>\n",
       "<span style=\"color: #7fbfbf; text-decoration-color: #7fbfbf\">                    </span>         <span style=\"color: #008000; text-decoration-color: #008000\">'C:\\Users\\Abdullah\\Documents\\MasterFolder\\Projects\\CodingProj</span> <span style=\"color: #7f7f7f; text-decoration-color: #7f7f7f\">                        </span>\n",
       "<span style=\"color: #7fbfbf; text-decoration-color: #7fbfbf\">                    </span>         <span style=\"color: #008000; text-decoration-color: #008000\">ects\\intro-notebook\\media\\videos\\intro-notebook\\480p15\\partia</span> <span style=\"color: #7f7f7f; text-decoration-color: #7f7f7f\">                        </span>\n",
       "<span style=\"color: #7fbfbf; text-decoration-color: #7fbfbf\">                    </span>         <span style=\"color: #008000; text-decoration-color: #008000\">l_movie_files\\IntroBright\\4007471538_4096280730_1722683422.mp</span> <span style=\"color: #7f7f7f; text-decoration-color: #7f7f7f\">                        </span>\n",
       "<span style=\"color: #7fbfbf; text-decoration-color: #7fbfbf\">                    </span>         <span style=\"color: #008000; text-decoration-color: #008000\">4'</span>                                                            <span style=\"color: #7f7f7f; text-decoration-color: #7f7f7f\">                        </span>\n",
       "</pre>\n"
      ],
      "text/plain": [
       "\u001b[2;36m[09/24/23 10:47:51]\u001b[0m\u001b[2;36m \u001b[0m\u001b[32mINFO    \u001b[0m Animation \u001b[32m5\u001b[0m : Partial movie file written in                   \u001b]8;id=260453;file://C:\\tools\\Manim\\Lib\\site-packages\\manim\\scene\\scene_file_writer.py\u001b\\\u001b[2mscene_file_writer.py\u001b[0m\u001b]8;;\u001b\\\u001b[2m:\u001b[0m\u001b]8;id=241625;file://C:\\tools\\Manim\\Lib\\site-packages\\manim\\scene\\scene_file_writer.py#527\u001b\\\u001b[2m527\u001b[0m\u001b]8;;\u001b\\\n",
       "\u001b[2;36m                    \u001b[0m         \u001b[32m'C:\\Users\\Abdullah\\Documents\\MasterFolder\\Projects\\CodingProj\u001b[0m \u001b[2m                        \u001b[0m\n",
       "\u001b[2;36m                    \u001b[0m         \u001b[32mects\\intro-notebook\\media\\videos\\intro-notebook\\480p15\\partia\u001b[0m \u001b[2m                        \u001b[0m\n",
       "\u001b[2;36m                    \u001b[0m         \u001b[32ml_movie_files\\IntroBright\\4007471538_4096280730_1722683422.mp\u001b[0m \u001b[2m                        \u001b[0m\n",
       "\u001b[2;36m                    \u001b[0m         \u001b[32m4'\u001b[0m                                                            \u001b[2m                        \u001b[0m\n"
      ]
     },
     "metadata": {},
     "output_type": "display_data"
    },
    {
     "data": {
      "text/html": [
       "<pre style=\"white-space:pre;overflow-x:auto;line-height:normal;font-family:Menlo,'DejaVu Sans Mono',consolas,'Courier New',monospace\"><span style=\"color: #7fbfbf; text-decoration-color: #7fbfbf\">[09/24/23 10:47:53] </span><span style=\"color: #008000; text-decoration-color: #008000\">INFO    </span> Animation <span style=\"color: #008000; text-decoration-color: #008000\">6</span> : Partial movie file written in                   <a href=\"file://C:\\tools\\Manim\\Lib\\site-packages\\manim\\scene\\scene_file_writer.py\" target=\"_blank\"><span style=\"color: #7f7f7f; text-decoration-color: #7f7f7f\">scene_file_writer.py</span></a><span style=\"color: #7f7f7f; text-decoration-color: #7f7f7f\">:</span><a href=\"file://C:\\tools\\Manim\\Lib\\site-packages\\manim\\scene\\scene_file_writer.py#527\" target=\"_blank\"><span style=\"color: #7f7f7f; text-decoration-color: #7f7f7f\">527</span></a>\n",
       "<span style=\"color: #7fbfbf; text-decoration-color: #7fbfbf\">                    </span>         <span style=\"color: #008000; text-decoration-color: #008000\">'C:\\Users\\Abdullah\\Documents\\MasterFolder\\Projects\\CodingProj</span> <span style=\"color: #7f7f7f; text-decoration-color: #7f7f7f\">                        </span>\n",
       "<span style=\"color: #7fbfbf; text-decoration-color: #7fbfbf\">                    </span>         <span style=\"color: #008000; text-decoration-color: #008000\">ects\\intro-notebook\\media\\videos\\intro-notebook\\480p15\\partia</span> <span style=\"color: #7f7f7f; text-decoration-color: #7f7f7f\">                        </span>\n",
       "<span style=\"color: #7fbfbf; text-decoration-color: #7fbfbf\">                    </span>         <span style=\"color: #008000; text-decoration-color: #008000\">l_movie_files\\IntroBright\\4007471538_3519673821_2360258789.mp</span> <span style=\"color: #7f7f7f; text-decoration-color: #7f7f7f\">                        </span>\n",
       "<span style=\"color: #7fbfbf; text-decoration-color: #7fbfbf\">                    </span>         <span style=\"color: #008000; text-decoration-color: #008000\">4'</span>                                                            <span style=\"color: #7f7f7f; text-decoration-color: #7f7f7f\">                        </span>\n",
       "</pre>\n"
      ],
      "text/plain": [
       "\u001b[2;36m[09/24/23 10:47:53]\u001b[0m\u001b[2;36m \u001b[0m\u001b[32mINFO    \u001b[0m Animation \u001b[32m6\u001b[0m : Partial movie file written in                   \u001b]8;id=458541;file://C:\\tools\\Manim\\Lib\\site-packages\\manim\\scene\\scene_file_writer.py\u001b\\\u001b[2mscene_file_writer.py\u001b[0m\u001b]8;;\u001b\\\u001b[2m:\u001b[0m\u001b]8;id=881827;file://C:\\tools\\Manim\\Lib\\site-packages\\manim\\scene\\scene_file_writer.py#527\u001b\\\u001b[2m527\u001b[0m\u001b]8;;\u001b\\\n",
       "\u001b[2;36m                    \u001b[0m         \u001b[32m'C:\\Users\\Abdullah\\Documents\\MasterFolder\\Projects\\CodingProj\u001b[0m \u001b[2m                        \u001b[0m\n",
       "\u001b[2;36m                    \u001b[0m         \u001b[32mects\\intro-notebook\\media\\videos\\intro-notebook\\480p15\\partia\u001b[0m \u001b[2m                        \u001b[0m\n",
       "\u001b[2;36m                    \u001b[0m         \u001b[32ml_movie_files\\IntroBright\\4007471538_3519673821_2360258789.mp\u001b[0m \u001b[2m                        \u001b[0m\n",
       "\u001b[2;36m                    \u001b[0m         \u001b[32m4'\u001b[0m                                                            \u001b[2m                        \u001b[0m\n"
      ]
     },
     "metadata": {},
     "output_type": "display_data"
    },
    {
     "name": "stderr",
     "output_type": "stream",
     "text": [
      "                                                                                       \r"
     ]
    },
    {
     "data": {
      "text/html": [
       "<pre style=\"white-space:pre;overflow-x:auto;line-height:normal;font-family:Menlo,'DejaVu Sans Mono',consolas,'Courier New',monospace\"><span style=\"color: #7fbfbf; text-decoration-color: #7fbfbf\">[09/24/23 10:47:59] </span><span style=\"color: #008000; text-decoration-color: #008000\">INFO    </span> Animation <span style=\"color: #008000; text-decoration-color: #008000\">7</span> : Partial movie file written in                   <a href=\"file://C:\\tools\\Manim\\Lib\\site-packages\\manim\\scene\\scene_file_writer.py\" target=\"_blank\"><span style=\"color: #7f7f7f; text-decoration-color: #7f7f7f\">scene_file_writer.py</span></a><span style=\"color: #7f7f7f; text-decoration-color: #7f7f7f\">:</span><a href=\"file://C:\\tools\\Manim\\Lib\\site-packages\\manim\\scene\\scene_file_writer.py#527\" target=\"_blank\"><span style=\"color: #7f7f7f; text-decoration-color: #7f7f7f\">527</span></a>\n",
       "<span style=\"color: #7fbfbf; text-decoration-color: #7fbfbf\">                    </span>         <span style=\"color: #008000; text-decoration-color: #008000\">'C:\\Users\\Abdullah\\Documents\\MasterFolder\\Projects\\CodingProj</span> <span style=\"color: #7f7f7f; text-decoration-color: #7f7f7f\">                        </span>\n",
       "<span style=\"color: #7fbfbf; text-decoration-color: #7fbfbf\">                    </span>         <span style=\"color: #008000; text-decoration-color: #008000\">ects\\intro-notebook\\media\\videos\\intro-notebook\\480p15\\partia</span> <span style=\"color: #7f7f7f; text-decoration-color: #7f7f7f\">                        </span>\n",
       "<span style=\"color: #7fbfbf; text-decoration-color: #7fbfbf\">                    </span>         <span style=\"color: #008000; text-decoration-color: #008000\">l_movie_files\\IntroBright\\4007471538_1832152559_1554785755.mp</span> <span style=\"color: #7f7f7f; text-decoration-color: #7f7f7f\">                        </span>\n",
       "<span style=\"color: #7fbfbf; text-decoration-color: #7fbfbf\">                    </span>         <span style=\"color: #008000; text-decoration-color: #008000\">4'</span>                                                            <span style=\"color: #7f7f7f; text-decoration-color: #7f7f7f\">                        </span>\n",
       "</pre>\n"
      ],
      "text/plain": [
       "\u001b[2;36m[09/24/23 10:47:59]\u001b[0m\u001b[2;36m \u001b[0m\u001b[32mINFO    \u001b[0m Animation \u001b[32m7\u001b[0m : Partial movie file written in                   \u001b]8;id=153278;file://C:\\tools\\Manim\\Lib\\site-packages\\manim\\scene\\scene_file_writer.py\u001b\\\u001b[2mscene_file_writer.py\u001b[0m\u001b]8;;\u001b\\\u001b[2m:\u001b[0m\u001b]8;id=507172;file://C:\\tools\\Manim\\Lib\\site-packages\\manim\\scene\\scene_file_writer.py#527\u001b\\\u001b[2m527\u001b[0m\u001b]8;;\u001b\\\n",
       "\u001b[2;36m                    \u001b[0m         \u001b[32m'C:\\Users\\Abdullah\\Documents\\MasterFolder\\Projects\\CodingProj\u001b[0m \u001b[2m                        \u001b[0m\n",
       "\u001b[2;36m                    \u001b[0m         \u001b[32mects\\intro-notebook\\media\\videos\\intro-notebook\\480p15\\partia\u001b[0m \u001b[2m                        \u001b[0m\n",
       "\u001b[2;36m                    \u001b[0m         \u001b[32ml_movie_files\\IntroBright\\4007471538_1832152559_1554785755.mp\u001b[0m \u001b[2m                        \u001b[0m\n",
       "\u001b[2;36m                    \u001b[0m         \u001b[32m4'\u001b[0m                                                            \u001b[2m                        \u001b[0m\n"
      ]
     },
     "metadata": {},
     "output_type": "display_data"
    },
    {
     "data": {
      "text/html": [
       "<pre style=\"white-space:pre;overflow-x:auto;line-height:normal;font-family:Menlo,'DejaVu Sans Mono',consolas,'Courier New',monospace\"><span style=\"color: #7fbfbf; text-decoration-color: #7fbfbf\">[09/24/23 10:48:00] </span><span style=\"color: #008000; text-decoration-color: #008000\">INFO    </span> Animation <span style=\"color: #008000; text-decoration-color: #008000\">8</span> : Partial movie file written in                   <a href=\"file://C:\\tools\\Manim\\Lib\\site-packages\\manim\\scene\\scene_file_writer.py\" target=\"_blank\"><span style=\"color: #7f7f7f; text-decoration-color: #7f7f7f\">scene_file_writer.py</span></a><span style=\"color: #7f7f7f; text-decoration-color: #7f7f7f\">:</span><a href=\"file://C:\\tools\\Manim\\Lib\\site-packages\\manim\\scene\\scene_file_writer.py#527\" target=\"_blank\"><span style=\"color: #7f7f7f; text-decoration-color: #7f7f7f\">527</span></a>\n",
       "<span style=\"color: #7fbfbf; text-decoration-color: #7fbfbf\">                    </span>         <span style=\"color: #008000; text-decoration-color: #008000\">'C:\\Users\\Abdullah\\Documents\\MasterFolder\\Projects\\CodingProj</span> <span style=\"color: #7f7f7f; text-decoration-color: #7f7f7f\">                        </span>\n",
       "<span style=\"color: #7fbfbf; text-decoration-color: #7fbfbf\">                    </span>         <span style=\"color: #008000; text-decoration-color: #008000\">ects\\intro-notebook\\media\\videos\\intro-notebook\\480p15\\partia</span> <span style=\"color: #7f7f7f; text-decoration-color: #7f7f7f\">                        </span>\n",
       "<span style=\"color: #7fbfbf; text-decoration-color: #7fbfbf\">                    </span>         <span style=\"color: #008000; text-decoration-color: #008000\">l_movie_files\\IntroBright\\4007471538_2296196550_3920720768.mp</span> <span style=\"color: #7f7f7f; text-decoration-color: #7f7f7f\">                        </span>\n",
       "<span style=\"color: #7fbfbf; text-decoration-color: #7fbfbf\">                    </span>         <span style=\"color: #008000; text-decoration-color: #008000\">4'</span>                                                            <span style=\"color: #7f7f7f; text-decoration-color: #7f7f7f\">                        </span>\n",
       "</pre>\n"
      ],
      "text/plain": [
       "\u001b[2;36m[09/24/23 10:48:00]\u001b[0m\u001b[2;36m \u001b[0m\u001b[32mINFO    \u001b[0m Animation \u001b[32m8\u001b[0m : Partial movie file written in                   \u001b]8;id=231010;file://C:\\tools\\Manim\\Lib\\site-packages\\manim\\scene\\scene_file_writer.py\u001b\\\u001b[2mscene_file_writer.py\u001b[0m\u001b]8;;\u001b\\\u001b[2m:\u001b[0m\u001b]8;id=246000;file://C:\\tools\\Manim\\Lib\\site-packages\\manim\\scene\\scene_file_writer.py#527\u001b\\\u001b[2m527\u001b[0m\u001b]8;;\u001b\\\n",
       "\u001b[2;36m                    \u001b[0m         \u001b[32m'C:\\Users\\Abdullah\\Documents\\MasterFolder\\Projects\\CodingProj\u001b[0m \u001b[2m                        \u001b[0m\n",
       "\u001b[2;36m                    \u001b[0m         \u001b[32mects\\intro-notebook\\media\\videos\\intro-notebook\\480p15\\partia\u001b[0m \u001b[2m                        \u001b[0m\n",
       "\u001b[2;36m                    \u001b[0m         \u001b[32ml_movie_files\\IntroBright\\4007471538_2296196550_3920720768.mp\u001b[0m \u001b[2m                        \u001b[0m\n",
       "\u001b[2;36m                    \u001b[0m         \u001b[32m4'\u001b[0m                                                            \u001b[2m                        \u001b[0m\n"
      ]
     },
     "metadata": {},
     "output_type": "display_data"
    },
    {
     "data": {
      "text/html": [
       "<pre style=\"white-space:pre;overflow-x:auto;line-height:normal;font-family:Menlo,'DejaVu Sans Mono',consolas,'Courier New',monospace\"><span style=\"color: #7fbfbf; text-decoration-color: #7fbfbf\">                    </span><span style=\"color: #008000; text-decoration-color: #008000\">INFO    </span> Combining to Movie file.                                      <a href=\"file://C:\\tools\\Manim\\Lib\\site-packages\\manim\\scene\\scene_file_writer.py\" target=\"_blank\"><span style=\"color: #7f7f7f; text-decoration-color: #7f7f7f\">scene_file_writer.py</span></a><span style=\"color: #7f7f7f; text-decoration-color: #7f7f7f\">:</span><a href=\"file://C:\\tools\\Manim\\Lib\\site-packages\\manim\\scene\\scene_file_writer.py#617\" target=\"_blank\"><span style=\"color: #7f7f7f; text-decoration-color: #7f7f7f\">617</span></a>\n",
       "</pre>\n"
      ],
      "text/plain": [
       "\u001b[2;36m                   \u001b[0m\u001b[2;36m \u001b[0m\u001b[32mINFO    \u001b[0m Combining to Movie file.                                      \u001b]8;id=568838;file://C:\\tools\\Manim\\Lib\\site-packages\\manim\\scene\\scene_file_writer.py\u001b\\\u001b[2mscene_file_writer.py\u001b[0m\u001b]8;;\u001b\\\u001b[2m:\u001b[0m\u001b]8;id=78485;file://C:\\tools\\Manim\\Lib\\site-packages\\manim\\scene\\scene_file_writer.py#617\u001b\\\u001b[2m617\u001b[0m\u001b]8;;\u001b\\\n"
      ]
     },
     "metadata": {},
     "output_type": "display_data"
    },
    {
     "data": {
      "text/html": [
       "<pre style=\"white-space:pre;overflow-x:auto;line-height:normal;font-family:Menlo,'DejaVu Sans Mono',consolas,'Courier New',monospace\"><span style=\"color: #7fbfbf; text-decoration-color: #7fbfbf\">                    </span><span style=\"color: #008000; text-decoration-color: #008000\">INFO    </span>                                                               <a href=\"file://C:\\tools\\Manim\\Lib\\site-packages\\manim\\scene\\scene_file_writer.py\" target=\"_blank\"><span style=\"color: #7f7f7f; text-decoration-color: #7f7f7f\">scene_file_writer.py</span></a><span style=\"color: #7f7f7f; text-decoration-color: #7f7f7f\">:</span><a href=\"file://C:\\tools\\Manim\\Lib\\site-packages\\manim\\scene\\scene_file_writer.py#736\" target=\"_blank\"><span style=\"color: #7f7f7f; text-decoration-color: #7f7f7f\">736</span></a>\n",
       "<span style=\"color: #7fbfbf; text-decoration-color: #7fbfbf\">                    </span>         <span style=\"color: #808000; text-decoration-color: #808000; font-weight: bold\">File</span> ready at                                                 <span style=\"color: #7f7f7f; text-decoration-color: #7f7f7f\">                        </span>\n",
       "<span style=\"color: #7fbfbf; text-decoration-color: #7fbfbf\">                    </span>         <span style=\"color: #008000; text-decoration-color: #008000\">'C:\\Users\\Abdullah\\Documents\\MasterFolder\\Projects\\CodingProj</span> <span style=\"color: #7f7f7f; text-decoration-color: #7f7f7f\">                        </span>\n",
       "<span style=\"color: #7fbfbf; text-decoration-color: #7fbfbf\">                    </span>         <span style=\"color: #008000; text-decoration-color: #008000\">ects\\intro-notebook\\media\\videos\\intro-notebook\\480p15\\IntroB</span> <span style=\"color: #7f7f7f; text-decoration-color: #7f7f7f\">                        </span>\n",
       "<span style=\"color: #7fbfbf; text-decoration-color: #7fbfbf\">                    </span>         <span style=\"color: #008000; text-decoration-color: #008000\">right.mp4'</span>                                                    <span style=\"color: #7f7f7f; text-decoration-color: #7f7f7f\">                        </span>\n",
       "<span style=\"color: #7fbfbf; text-decoration-color: #7fbfbf\">                    </span>                                                                       <span style=\"color: #7f7f7f; text-decoration-color: #7f7f7f\">                        </span>\n",
       "</pre>\n"
      ],
      "text/plain": [
       "\u001b[2;36m                   \u001b[0m\u001b[2;36m \u001b[0m\u001b[32mINFO    \u001b[0m                                                               \u001b]8;id=354157;file://C:\\tools\\Manim\\Lib\\site-packages\\manim\\scene\\scene_file_writer.py\u001b\\\u001b[2mscene_file_writer.py\u001b[0m\u001b]8;;\u001b\\\u001b[2m:\u001b[0m\u001b]8;id=685526;file://C:\\tools\\Manim\\Lib\\site-packages\\manim\\scene\\scene_file_writer.py#736\u001b\\\u001b[2m736\u001b[0m\u001b]8;;\u001b\\\n",
       "\u001b[2;36m                    \u001b[0m         \u001b[1;33mFile\u001b[0m ready at                                                 \u001b[2m                        \u001b[0m\n",
       "\u001b[2;36m                    \u001b[0m         \u001b[32m'C:\\Users\\Abdullah\\Documents\\MasterFolder\\Projects\\CodingProj\u001b[0m \u001b[2m                        \u001b[0m\n",
       "\u001b[2;36m                    \u001b[0m         \u001b[32mects\\intro-notebook\\media\\videos\\intro-notebook\\480p15\\IntroB\u001b[0m \u001b[2m                        \u001b[0m\n",
       "\u001b[2;36m                    \u001b[0m         \u001b[32mright.mp4'\u001b[0m                                                    \u001b[2m                        \u001b[0m\n",
       "\u001b[2;36m                    \u001b[0m                                                                       \u001b[2m                        \u001b[0m\n"
      ]
     },
     "metadata": {},
     "output_type": "display_data"
    },
    {
     "data": {
      "text/html": [
       "<pre style=\"white-space:pre;overflow-x:auto;line-height:normal;font-family:Menlo,'DejaVu Sans Mono',consolas,'Courier New',monospace\"><span style=\"color: #7fbfbf; text-decoration-color: #7fbfbf\">                    </span><span style=\"color: #008000; text-decoration-color: #008000\">INFO    </span> <span style=\"color: #808000; text-decoration-color: #808000; font-weight: bold\">Rendered</span> IntroBright                                                      <a href=\"file://C:\\tools\\Manim\\Lib\\site-packages\\manim\\scene\\scene.py\" target=\"_blank\"><span style=\"color: #7f7f7f; text-decoration-color: #7f7f7f\">scene.py</span></a><span style=\"color: #7f7f7f; text-decoration-color: #7f7f7f\">:</span><a href=\"file://C:\\tools\\Manim\\Lib\\site-packages\\manim\\scene\\scene.py#241\" target=\"_blank\"><span style=\"color: #7f7f7f; text-decoration-color: #7f7f7f\">241</span></a>\n",
       "<span style=\"color: #7fbfbf; text-decoration-color: #7fbfbf\">                    </span>         <span style=\"color: #808000; text-decoration-color: #808000; font-weight: bold\">Played</span> <span style=\"color: #008000; text-decoration-color: #008000\">9</span> <span style=\"color: #808000; text-decoration-color: #808000; font-weight: bold\">animations</span>                                                       <span style=\"color: #7f7f7f; text-decoration-color: #7f7f7f\">            </span>\n",
       "</pre>\n"
      ],
      "text/plain": [
       "\u001b[2;36m                   \u001b[0m\u001b[2;36m \u001b[0m\u001b[32mINFO    \u001b[0m \u001b[1;33mRendered\u001b[0m IntroBright                                                      \u001b]8;id=470905;file://C:\\tools\\Manim\\Lib\\site-packages\\manim\\scene\\scene.py\u001b\\\u001b[2mscene.py\u001b[0m\u001b]8;;\u001b\\\u001b[2m:\u001b[0m\u001b]8;id=622931;file://C:\\tools\\Manim\\Lib\\site-packages\\manim\\scene\\scene.py#241\u001b\\\u001b[2m241\u001b[0m\u001b]8;;\u001b\\\n",
       "\u001b[2;36m                    \u001b[0m         \u001b[1;33mPlayed\u001b[0m \u001b[32m9\u001b[0m \u001b[1;33manimations\u001b[0m                                                       \u001b[2m            \u001b[0m\n"
      ]
     },
     "metadata": {},
     "output_type": "display_data"
    },
    {
     "ename": "FileNotFoundError",
     "evalue": "[WinError 3] The system cannot find the path specified: 'media\\\\jupyter\\\\IntroBright@2023-09-24@00-27-05.mp4'",
     "output_type": "error",
     "traceback": [
      "\u001b[1;31m---------------------------------------------------------------------------\u001b[0m",
      "\u001b[1;31mFileNotFoundError\u001b[0m                         Traceback (most recent call last)",
      "\u001b[1;32mc:\\Users\\Abdullah\\Documents\\MasterFolder\\Projects\\CodingProjects\\intro-notebook\\intro.ipynb Cell 4\u001b[0m line \u001b[0;36m1\n\u001b[1;32m----> <a href='vscode-notebook-cell:/c%3A/Users/Abdullah/Documents/MasterFolder/Projects/CodingProjects/intro-notebook/intro.ipynb#W5sZmlsZQ%3D%3D?line=0'>1</a>\u001b[0m get_ipython()\u001b[39m.\u001b[39;49mrun_cell_magic(\u001b[39m'\u001b[39;49m\u001b[39mmanim\u001b[39;49m\u001b[39m'\u001b[39;49m, \u001b[39m'\u001b[39;49m\u001b[39m-ql IntroBright\u001b[39;49m\u001b[39m'\u001b[39;49m, \u001b[39m'\u001b[39;49m\u001b[39m\\n\u001b[39;49;00m\u001b[39mclass IntroBright(Scene):\u001b[39;49m\u001b[39m\\n\u001b[39;49;00m\u001b[39m    def construct(self):\u001b[39;49m\u001b[39m\\n\u001b[39;49;00m\u001b[39m        self.camera.background_color = WHITE\u001b[39;49m\u001b[39m\\n\u001b[39;49;00m\u001b[39m        register_font(NORMAL_FONT_PATH)\u001b[39;49m\u001b[39m\\n\u001b[39;49;00m\u001b[39m        register_font(LOGO_FONT_PATH)\u001b[39;49m\u001b[39m\\n\u001b[39;49;00m\u001b[39m        register_font(SOCIAL_MEDIA_FONT_PATH)\u001b[39;49m\u001b[39m\\n\u001b[39;49;00m\u001b[39m\\n\u001b[39;49;00m\u001b[39m        course_code_text = COURSE_CODE_TEXT\u001b[39;49m\u001b[39m\\n\u001b[39;49;00m\u001b[39m        lesson_number_text = LESSON_NUMBER_TEXT\u001b[39;49m\u001b[39m\\n\u001b[39;49;00m\u001b[39m        lesson_title_text = LESSON_TITLE_TEXT\u001b[39;49m\u001b[39m\\n\u001b[39;49;00m\u001b[39m        tutor_name_text = TUTOR_NAME_TEXT\u001b[39;49m\u001b[39m\\n\u001b[39;49;00m\u001b[39m        \u001b[39;49m\u001b[39m\\n\u001b[39;49;00m\u001b[39m        course_code_text = \u001b[39;49m\u001b[39m\"\u001b[39;49m\u001b[39mرمز المقرر: \u001b[39;49m\u001b[39m\"\u001b[39;49m\u001b[39m + course_code_text\u001b[39;49m\u001b[39m\\n\u001b[39;49;00m\u001b[39m        lesson_number_text = \u001b[39;49m\u001b[39m\"\u001b[39;49m\u001b[39mرقم الدرس: \u001b[39;49m\u001b[39m\"\u001b[39;49m\u001b[39m + lesson_number_text\u001b[39;49m\u001b[39m\\n\u001b[39;49;00m\u001b[39m        lesson_title_text = \u001b[39;49m\u001b[39m\"\u001b[39;49m\u001b[39mعنوان الدرس: \u001b[39;49m\u001b[39m\"\u001b[39;49m\u001b[39m + lesson_title_text\u001b[39;49m\u001b[39m\\n\u001b[39;49;00m\u001b[39m        tutor_name_text = \u001b[39;49m\u001b[39m\"\u001b[39;49m\u001b[39mإعداد المتطوع: \u001b[39;49m\u001b[39m\"\u001b[39;49m\u001b[39m + tutor_name_text\u001b[39;49m\u001b[39m\\n\u001b[39;49;00m\u001b[39m\\n\u001b[39;49;00m\u001b[39m        peer_learning_logo = SVGMobject(\u001b[39;49m\u001b[39m\"\u001b[39;49m\u001b[39m./assets/images/svgs/logo_main.svg\u001b[39;49m\u001b[39m\"\u001b[39;49m\u001b[39m)\u001b[39;49m\u001b[39m\\n\u001b[39;49;00m\u001b[39m        \u001b[39;49m\u001b[39m\\n\u001b[39;49;00m\u001b[39m        \u001b[39;49m\u001b[39m\\n\u001b[39;49;00m\u001b[39m        arabic_font_logo_text = f\u001b[39;49m\u001b[39m\\'\u001b[39;49;00m\u001b[39m<span font_family=\u001b[39;49m\u001b[39m\"\u001b[39;49m\u001b[39m{LOGO_FONT}\u001b[39;49;00m\u001b[39m\"\u001b[39;49m\u001b[39m foreground=\u001b[39;49m\u001b[39m\"\u001b[39;49m\u001b[39m{LOGO_YELLOW}\u001b[39;49;00m\u001b[39m\"\u001b[39;49m\u001b[39m>فريق</span><span font_family=\u001b[39;49m\u001b[39m\"\u001b[39;49m\u001b[39m{LOGO_FONT}\u001b[39;49;00m\u001b[39m\"\u001b[39;49m\u001b[39m foreground=\u001b[39;49m\u001b[39m\"\u001b[39;49m\u001b[39m{LOGO_GREEN}\u001b[39;49;00m\u001b[39m\"\u001b[39;49m\u001b[39m> تعليم</span><span font_family=\u001b[39;49m\u001b[39m\"\u001b[39;49m\u001b[39m{LOGO_FONT}\u001b[39;49;00m\u001b[39m\"\u001b[39;49m\u001b[39m foreground=\u001b[39;49m\u001b[39m\"\u001b[39;49m\u001b[39m{LOGO_RED}\u001b[39;49;00m\u001b[39m\"\u001b[39;49m\u001b[39m> الأقران</span>\u001b[39;49m\u001b[39m\\'\u001b[39;49;00m\u001b[39m\\n\u001b[39;49;00m\u001b[39m        font_arabic_logo = MarkupText(text=arabic_font_logo_text).scale(1.5)\u001b[39;49m\u001b[39m\\n\u001b[39;49;00m\u001b[39m        font_arabic_logo.next_to(peer_learning_logo, LEFT)\u001b[39;49m\u001b[39m\\n\u001b[39;49;00m\u001b[39m        logo_font_group = VGroup(peer_learning_logo, font_arabic_logo)\u001b[39;49m\u001b[39m\\n\u001b[39;49;00m\u001b[39m\\n\u001b[39;49;00m\u001b[39m        course_code = Text(course_code_text, font=NORMAL_FONT, font_size=NORMAL_FONT_SIZE, color=FONT_COLOR)\u001b[39;49m\u001b[39m\\n\u001b[39;49;00m\u001b[39m        lesson_number = Text(lesson_number_text, font=NORMAL_FONT, font_size=NORMAL_FONT_SIZE, color=FONT_COLOR)\u001b[39;49m\u001b[39m\\n\u001b[39;49;00m\u001b[39m        lesson_title = Text(lesson_title_text, font=NORMAL_FONT, font_size=NORMAL_FONT_SIZE, color=FONT_COLOR)\u001b[39;49m\u001b[39m\\n\u001b[39;49;00m\u001b[39m        tutor_name = Text(tutor_name_text, font=NORMAL_FONT, font_size=NORMAL_FONT_SIZE, color=FONT_COLOR)\u001b[39;49m\u001b[39m\\n\u001b[39;49;00m\u001b[39m        \u001b[39;49m\u001b[39m\\n\u001b[39;49;00m\u001b[39m        course_details_group = VGroup(course_code, lesson_number, lesson_title, tutor_name).arrange(DOWN, buff=0.3, aligned_edge=RIGHT)\u001b[39;49m\u001b[39m\\n\u001b[39;49;00m\u001b[39m        course_details_group.move_to(ORIGIN + DOWN * 0.5)\u001b[39;49m\u001b[39m\\n\u001b[39;49;00m\u001b[39m\\n\u001b[39;49;00m\u001b[39m        \u001b[39;49m\u001b[39m\\n\u001b[39;49;00m\u001b[39m\\n\u001b[39;49;00m\u001b[39m\\n\u001b[39;49;00m\u001b[39m\\n\u001b[39;49;00m\u001b[39m        instagram_logo_peerlearning = SVGMobject(\u001b[39;49m\u001b[39m\"\u001b[39;49m\u001b[39m./assets/images/svgs/instagram_logo.svg\u001b[39;49m\u001b[39m\"\u001b[39;49m\u001b[39m, stroke_color=FONT_COLOR, fill_color=FONT_COLOR)\u001b[39;49m\u001b[39m\\n\u001b[39;49;00m\u001b[39m        instagram_logo_peerlearning.height = SOCIAL_MEDIA_LOGO_HEIGHT\u001b[39;49m\u001b[39m\\n\u001b[39;49;00m\u001b[39m        instagram_logo_peerlearning.width = SOCIAL_MEDIA_LOGO_WIDTH\u001b[39;49m\u001b[39m\\n\u001b[39;49;00m\u001b[39m\\n\u001b[39;49;00m\u001b[39m        x_logo_peerlearning = SVGMobject(\u001b[39;49m\u001b[39m\"\u001b[39;49m\u001b[39m./assets/images/svgs/x_logo.svg\u001b[39;49m\u001b[39m\"\u001b[39;49m\u001b[39m, stroke_color=FONT_COLOR, fill_color=FONT_COLOR)\u001b[39;49m\u001b[39m\\n\u001b[39;49;00m\u001b[39m        x_logo_peerlearning.height = SOCIAL_MEDIA_LOGO_HEIGHT\u001b[39;49m\u001b[39m\\n\u001b[39;49;00m\u001b[39m        x_logo_peerlearning.width = SOCIAL_MEDIA_LOGO_WIDTH\u001b[39;49m\u001b[39m\\n\u001b[39;49;00m\u001b[39m\\n\u001b[39;49;00m\u001b[39m        youtube_logo_peerlearning = SVGMobject(\u001b[39;49m\u001b[39m\"\u001b[39;49m\u001b[39m./assets/images/svgs/youtube.svg\u001b[39;49m\u001b[39m\"\u001b[39;49m\u001b[39m, stroke_color=FONT_COLOR, fill_color=FONT_COLOR, stroke_width=5)\u001b[39;49m\u001b[39m\\n\u001b[39;49;00m\u001b[39m        youtube_logo_peerlearning.height = SOCIAL_MEDIA_LOGO_HEIGHT\u001b[39;49m\u001b[39m\\n\u001b[39;49;00m\u001b[39m        youtube_logo_peerlearning.width = SOCIAL_MEDIA_LOGO_WIDTH\u001b[39;49m\u001b[39m\\n\u001b[39;49;00m\u001b[39m        \u001b[39;49m\u001b[39m\\n\u001b[39;49;00m\u001b[39m        tiktok_logo_peerlearning = SVGMobject(\u001b[39;49m\u001b[39m\"\u001b[39;49m\u001b[39m./assets/images/svgs/tiktok_logo.svg\u001b[39;49m\u001b[39m\"\u001b[39;49m\u001b[39m, stroke_color=FONT_COLOR, fill_color=FONT_COLOR)\u001b[39;49m\u001b[39m\\n\u001b[39;49;00m\u001b[39m        tiktok_logo_peerlearning.height = SOCIAL_MEDIA_LOGO_HEIGHT\u001b[39;49m\u001b[39m\\n\u001b[39;49;00m\u001b[39m        tiktok_logo_peerlearning.width = SOCIAL_MEDIA_LOGO_WIDTH\u001b[39;49m\u001b[39m\\n\u001b[39;49;00m\u001b[39m\\n\u001b[39;49;00m\u001b[39m        peerlearning_social_media_logos = VGroup(instagram_logo_peerlearning, x_logo_peerlearning, youtube_logo_peerlearning, tiktok_logo_peerlearning).arrange(RIGHT)\u001b[39;49m\u001b[39m\\n\u001b[39;49;00m\u001b[39m        peerlearning_social_media_logos.to_edge(DL, buff=1)\u001b[39;49m\u001b[39m\\n\u001b[39;49;00m\u001b[39m\\n\u001b[39;49;00m\u001b[39m        peerlearning_account_name = Text(\u001b[39;49m\u001b[39m\"\u001b[39;49m\u001b[39mpeerlearningbh\u001b[39;49m\u001b[39m\"\u001b[39;49m\u001b[39m,font=SOCIAL_MEDIA_FONT, color=FONT_COLOR, font_size=20)\u001b[39;49m\u001b[39m\\n\u001b[39;49;00m\u001b[39m        peerlearning_account_name.next_to(peerlearning_social_media_logos, DOWN)\u001b[39;49m\u001b[39m\\n\u001b[39;49;00m\u001b[39m        peerlearning_social_media_logos.add(peerlearning_account_name)\u001b[39;49m\u001b[39m\\n\u001b[39;49;00m\u001b[39m        \u001b[39;49m\u001b[39m\\n\u001b[39;49;00m\u001b[39m\\n\u001b[39;49;00m\u001b[39m\\n\u001b[39;49;00m\u001b[39m\\n\u001b[39;49;00m\u001b[39m        self.play(Write(peer_learning_logo), run_time=0.75)\u001b[39;49m\u001b[39m\\n\u001b[39;49;00m\u001b[39m        self.play(peer_learning_logo.animate.shift(RIGHT * 4.5), run_time=0.75)\u001b[39;49m\u001b[39m\\n\u001b[39;49;00m\u001b[39m        font_arabic_logo.next_to(peer_learning_logo, LEFT)\u001b[39;49m\u001b[39m\\n\u001b[39;49;00m\u001b[39m        self.play(Write(font_arabic_logo, reverse=True), run_time=0.75)\u001b[39;49m\u001b[39m\\n\u001b[39;49;00m\u001b[39m        self.add(font_arabic_logo)\u001b[39;49m\u001b[39m\\n\u001b[39;49;00m\u001b[39m        self.play(logo_font_group.animate.shift(UP * 2.5), run_time=0.75)\u001b[39;49m\u001b[39m\\n\u001b[39;49;00m\u001b[39m\\n\u001b[39;49;00m\u001b[39m        course_details_animations = AnimationGroup(Write(course_code, reverse=True), Write(lesson_number, reverse=True), Write(lesson_title, reverse=True), Write(tutor_name, reverse=True), lag_ratio=0.05)\u001b[39;49m\u001b[39m\\n\u001b[39;49;00m\u001b[39m        self.play(course_details_animations)\u001b[39;49m\u001b[39m\\n\u001b[39;49;00m\u001b[39m        self.add(course_details_group)\u001b[39;49m\u001b[39m\\n\u001b[39;49;00m\u001b[39m        \u001b[39;49m\u001b[39m\\n\u001b[39;49;00m\u001b[39m\\n\u001b[39;49;00m\u001b[39m        \u001b[39;49m\u001b[39m\\n\u001b[39;49;00m\u001b[39m\\n\u001b[39;49;00m\u001b[39m        \u001b[39;49m\u001b[39m\\n\u001b[39;49;00m\u001b[39m        self.play(Write(peerlearning_social_media_logos))\u001b[39;49m\u001b[39m\\n\u001b[39;49;00m\u001b[39m        self.wait(0.5)\u001b[39;49m\u001b[39m\\n\u001b[39;49;00m\u001b[39m\\n\u001b[39;49;00m\u001b[39m        self.play(Unwrite(peer_learning_logo), Unwrite(font_arabic_logo), Unwrite(peerlearning_account_name), Unwrite(peerlearning_social_media_logos), Unwrite(course_details_group))\u001b[39;49m\u001b[39m\\n\u001b[39;49;00m\u001b[39m        self.wait()\u001b[39;49m\u001b[39m\\n\u001b[39;49;00m\u001b[39m'\u001b[39;49m)\n",
      "File \u001b[1;32m~\\AppData\\Roaming\\Python\\Python311\\site-packages\\IPython\\core\\interactiveshell.py:2493\u001b[0m, in \u001b[0;36mInteractiveShell.run_cell_magic\u001b[1;34m(self, magic_name, line, cell)\u001b[0m\n\u001b[0;32m   2491\u001b[0m \u001b[39mwith\u001b[39;00m \u001b[39mself\u001b[39m\u001b[39m.\u001b[39mbuiltin_trap:\n\u001b[0;32m   2492\u001b[0m     args \u001b[39m=\u001b[39m (magic_arg_s, cell)\n\u001b[1;32m-> 2493\u001b[0m     result \u001b[39m=\u001b[39m fn(\u001b[39m*\u001b[39;49margs, \u001b[39m*\u001b[39;49m\u001b[39m*\u001b[39;49mkwargs)\n\u001b[0;32m   2495\u001b[0m \u001b[39m# The code below prevents the output from being displayed\u001b[39;00m\n\u001b[0;32m   2496\u001b[0m \u001b[39m# when using magics with decorator @output_can_be_silenced\u001b[39;00m\n\u001b[0;32m   2497\u001b[0m \u001b[39m# when the last Python token in the expression is a ';'.\u001b[39;00m\n\u001b[0;32m   2498\u001b[0m \u001b[39mif\u001b[39;00m \u001b[39mgetattr\u001b[39m(fn, magic\u001b[39m.\u001b[39mMAGIC_OUTPUT_CAN_BE_SILENCED, \u001b[39mFalse\u001b[39;00m):\n",
      "File \u001b[1;32mC:\\tools\\Manim\\Lib\\site-packages\\manim\\utils\\ipython_magic.py:163\u001b[0m, in \u001b[0;36mManimMagic.manim\u001b[1;34m(self, line, cell, local_ns)\u001b[0m\n\u001b[0;32m    156\u001b[0m tmpfile \u001b[39m=\u001b[39m (\n\u001b[0;32m    157\u001b[0m     Path(config[\u001b[39m\"\u001b[39m\u001b[39mmedia_dir\u001b[39m\u001b[39m\"\u001b[39m])\n\u001b[0;32m    158\u001b[0m     \u001b[39m/\u001b[39m \u001b[39m\"\u001b[39m\u001b[39mjupyter\u001b[39m\u001b[39m\"\u001b[39m\n\u001b[0;32m    159\u001b[0m     \u001b[39m/\u001b[39m \u001b[39mf\u001b[39m\u001b[39m\"\u001b[39m\u001b[39m{\u001b[39;00m_generate_file_name()\u001b[39m}\u001b[39;00m\u001b[39m{\u001b[39;00mlocal_path\u001b[39m.\u001b[39msuffix\u001b[39m}\u001b[39;00m\u001b[39m\"\u001b[39m\n\u001b[0;32m    160\u001b[0m )\n\u001b[0;32m    162\u001b[0m \u001b[39mif\u001b[39;00m local_path \u001b[39min\u001b[39;00m \u001b[39mself\u001b[39m\u001b[39m.\u001b[39mrendered_files:\n\u001b[1;32m--> 163\u001b[0m     \u001b[39mself\u001b[39;49m\u001b[39m.\u001b[39;49mrendered_files[local_path]\u001b[39m.\u001b[39;49munlink()\n\u001b[0;32m    164\u001b[0m \u001b[39mself\u001b[39m\u001b[39m.\u001b[39mrendered_files[local_path] \u001b[39m=\u001b[39m tmpfile\n\u001b[0;32m    165\u001b[0m tmpfile\u001b[39m.\u001b[39mparent\u001b[39m.\u001b[39mmkdir(parents\u001b[39m=\u001b[39m\u001b[39mTrue\u001b[39;00m, exist_ok\u001b[39m=\u001b[39m\u001b[39mTrue\u001b[39;00m)\n",
      "File \u001b[1;32mc:\\Python311\\Lib\\pathlib.py:1147\u001b[0m, in \u001b[0;36mPath.unlink\u001b[1;34m(self, missing_ok)\u001b[0m\n\u001b[0;32m   1142\u001b[0m \u001b[39m\u001b[39m\u001b[39m\"\"\"\u001b[39;00m\n\u001b[0;32m   1143\u001b[0m \u001b[39mRemove this file or link.\u001b[39;00m\n\u001b[0;32m   1144\u001b[0m \u001b[39mIf the path is a directory, use rmdir() instead.\u001b[39;00m\n\u001b[0;32m   1145\u001b[0m \u001b[39m\"\"\"\u001b[39;00m\n\u001b[0;32m   1146\u001b[0m \u001b[39mtry\u001b[39;00m:\n\u001b[1;32m-> 1147\u001b[0m     os\u001b[39m.\u001b[39munlink(\u001b[39mself\u001b[39m)\n\u001b[0;32m   1148\u001b[0m \u001b[39mexcept\u001b[39;00m \u001b[39mFileNotFoundError\u001b[39;00m:\n\u001b[0;32m   1149\u001b[0m     \u001b[39mif\u001b[39;00m \u001b[39mnot\u001b[39;00m missing_ok:\n",
      "\u001b[1;31mFileNotFoundError\u001b[0m: [WinError 3] The system cannot find the path specified: 'media\\\\jupyter\\\\IntroBright@2023-09-24@00-27-05.mp4'"
     ]
    }
   ],
   "source": [
    "\n",
    "%%manim -ql IntroBright\n",
    "\n",
    "class IntroBright(Scene):\n",
    "    def construct(self):\n",
    "        self.camera.background_color = WHITE\n",
    "        register_font(NORMAL_FONT_PATH)\n",
    "        register_font(LOGO_FONT_PATH)\n",
    "        register_font(SOCIAL_MEDIA_FONT_PATH)\n",
    "\n",
    "        course_code_text = COURSE_CODE_TEXT\n",
    "        lesson_number_text = LESSON_NUMBER_TEXT\n",
    "        lesson_title_text = LESSON_TITLE_TEXT\n",
    "        tutor_name_text = TUTOR_NAME_TEXT\n",
    "        \n",
    "        course_code_text = \"رمز المقرر: \" + course_code_text\n",
    "        lesson_number_text = \"رقم الدرس: \" + lesson_number_text\n",
    "        lesson_title_text = \"عنوان الدرس: \" + lesson_title_text\n",
    "        tutor_name_text = \"إعداد المتطوع: \" + tutor_name_text\n",
    "\n",
    "        peer_learning_logo = SVGMobject(\"./assets/images/svgs/logo_main.svg\")\n",
    "        \n",
    "        \n",
    "        arabic_font_logo_text = f'<span font_family=\"{LOGO_FONT}\" foreground=\"{LOGO_YELLOW}\">فريق</span><span font_family=\"{LOGO_FONT}\" foreground=\"{LOGO_GREEN}\"> تعليم</span><span font_family=\"{LOGO_FONT}\" foreground=\"{LOGO_RED}\"> الأقران</span>'\n",
    "        font_arabic_logo = MarkupText(text=arabic_font_logo_text).scale(1.5)\n",
    "        font_arabic_logo.next_to(peer_learning_logo, LEFT)\n",
    "        logo_font_group = VGroup(peer_learning_logo, font_arabic_logo)\n",
    "\n",
    "        course_code = Text(course_code_text, font=NORMAL_FONT, font_size=NORMAL_FONT_SIZE, color=FONT_COLOR)\n",
    "        lesson_number = Text(lesson_number_text, font=NORMAL_FONT, font_size=NORMAL_FONT_SIZE, color=FONT_COLOR)\n",
    "        lesson_title = Text(lesson_title_text, font=NORMAL_FONT, font_size=NORMAL_FONT_SIZE, color=FONT_COLOR)\n",
    "        tutor_name = Text(tutor_name_text, font=NORMAL_FONT, font_size=NORMAL_FONT_SIZE, color=FONT_COLOR)\n",
    "        \n",
    "        course_details_group = VGroup(course_code, lesson_number, lesson_title, tutor_name).arrange(DOWN, buff=0.3, aligned_edge=RIGHT)\n",
    "        course_details_group.move_to(ORIGIN + DOWN * 0.5)\n",
    "\n",
    "        \n",
    "\n",
    "\n",
    "\n",
    "        instagram_logo_peerlearning = SVGMobject(\"./assets/images/svgs/instagram_logo.svg\", stroke_color=FONT_COLOR, fill_color=FONT_COLOR)\n",
    "        instagram_logo_peerlearning.height = SOCIAL_MEDIA_LOGO_HEIGHT\n",
    "        instagram_logo_peerlearning.width = SOCIAL_MEDIA_LOGO_WIDTH\n",
    "\n",
    "        x_logo_peerlearning = SVGMobject(\"./assets/images/svgs/x_logo.svg\", stroke_color=FONT_COLOR, fill_color=FONT_COLOR)\n",
    "        x_logo_peerlearning.height = SOCIAL_MEDIA_LOGO_HEIGHT\n",
    "        x_logo_peerlearning.width = SOCIAL_MEDIA_LOGO_WIDTH\n",
    "\n",
    "        youtube_logo_peerlearning = SVGMobject(\"./assets/images/svgs/youtube.svg\", stroke_color=FONT_COLOR, fill_color=FONT_COLOR, stroke_width=5)\n",
    "        youtube_logo_peerlearning.height = SOCIAL_MEDIA_LOGO_HEIGHT\n",
    "        youtube_logo_peerlearning.width = SOCIAL_MEDIA_LOGO_WIDTH\n",
    "        \n",
    "        tiktok_logo_peerlearning = SVGMobject(\"./assets/images/svgs/tiktok_logo.svg\", stroke_color=FONT_COLOR, fill_color=FONT_COLOR)\n",
    "        tiktok_logo_peerlearning.height = SOCIAL_MEDIA_LOGO_HEIGHT\n",
    "        tiktok_logo_peerlearning.width = SOCIAL_MEDIA_LOGO_WIDTH\n",
    "\n",
    "        peerlearning_social_media_logos = VGroup(instagram_logo_peerlearning, x_logo_peerlearning, youtube_logo_peerlearning, tiktok_logo_peerlearning).arrange(RIGHT)\n",
    "        peerlearning_social_media_logos.to_edge(DL, buff=1)\n",
    "\n",
    "        peerlearning_account_name = Text(\"peerlearningbh\",font=SOCIAL_MEDIA_FONT, color=FONT_COLOR, font_size=20)\n",
    "        peerlearning_account_name.next_to(peerlearning_social_media_logos, DOWN)\n",
    "        peerlearning_social_media_logos.add(peerlearning_account_name)\n",
    "        \n",
    "\n",
    "\n",
    "\n",
    "        self.play(Write(peer_learning_logo), run_time=0.75)\n",
    "        self.play(peer_learning_logo.animate.shift(RIGHT * 4.5), run_time=0.75)\n",
    "        font_arabic_logo.next_to(peer_learning_logo, LEFT)\n",
    "        self.play(Write(font_arabic_logo, reverse=True), run_time=0.75)\n",
    "        self.add(font_arabic_logo)\n",
    "        self.play(logo_font_group.animate.shift(UP * 2.5), run_time=0.75)\n",
    "\n",
    "        course_details_animations = AnimationGroup(Write(course_code, reverse=True), Write(lesson_number, reverse=True), Write(lesson_title, reverse=True), Write(tutor_name, reverse=True), lag_ratio=0.05)\n",
    "        self.play(course_details_animations)\n",
    "        self.add(course_details_group)\n",
    "        \n",
    "\n",
    "        \n",
    "\n",
    "        \n",
    "        self.play(Write(peerlearning_social_media_logos))\n",
    "        self.wait(0.5)\n",
    "\n",
    "        self.play(Unwrite(peer_learning_logo), Unwrite(font_arabic_logo), Unwrite(peerlearning_account_name), Unwrite(peerlearning_social_media_logos), Unwrite(course_details_group))\n",
    "        self.wait()"
   ]
  }
 ],
 "metadata": {
  "kernelspec": {
   "display_name": "Python 3",
   "language": "python",
   "name": "python3"
  },
  "language_info": {
   "codemirror_mode": {
    "name": "ipython",
    "version": 3
   },
   "file_extension": ".py",
   "mimetype": "text/x-python",
   "name": "python",
   "nbconvert_exporter": "python",
   "pygments_lexer": "ipython3",
   "version": "3.11.4"
  },
  "orig_nbformat": 4
 },
 "nbformat": 4,
 "nbformat_minor": 2
}
